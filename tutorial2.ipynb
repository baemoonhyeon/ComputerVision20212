{
 "cells": [
  {
   "cell_type": "code",
   "execution_count": 3,
   "id": "392eb1db-99be-4bf3-8703-3ceab5ea480c",
   "metadata": {},
   "outputs": [],
   "source": [
    "li = ['abc', 23, 4.34, 23]"
   ]
  },
  {
   "cell_type": "code",
   "execution_count": 4,
   "id": "c53aca6f-f5d0-4a55-8d6e-a89e5d88aad5",
   "metadata": {},
   "outputs": [],
   "source": [
    "li[1] = 45"
   ]
  },
  {
   "cell_type": "code",
   "execution_count": 5,
   "id": "39573302-37a8-4f0a-8524-6a29c6a1b9c7",
   "metadata": {},
   "outputs": [
    {
     "data": {
      "text/plain": [
       "['abc', 45, 4.34, 23]"
      ]
     },
     "execution_count": 5,
     "metadata": {},
     "output_type": "execute_result"
    }
   ],
   "source": [
    "li"
   ]
  },
  {
   "cell_type": "code",
   "execution_count": 10,
   "id": "f71dde8b-189c-4b13-b3d6-e374a4517923",
   "metadata": {},
   "outputs": [],
   "source": [
    "li = [1, 11, 3, 4, 5]"
   ]
  },
  {
   "cell_type": "code",
   "execution_count": 12,
   "id": "5a73db0e-7e9e-404d-9a17-c5b84a0926da",
   "metadata": {},
   "outputs": [],
   "source": [
    "li.append('a')"
   ]
  },
  {
   "cell_type": "code",
   "execution_count": 13,
   "id": "99a9a53e-b789-43aa-a6f3-ab3fa73fca6c",
   "metadata": {},
   "outputs": [
    {
     "data": {
      "text/plain": [
       "[1, 11, 3, 4, 5, 'a']"
      ]
     },
     "execution_count": 13,
     "metadata": {},
     "output_type": "execute_result"
    }
   ],
   "source": [
    "li"
   ]
  },
  {
   "cell_type": "code",
   "execution_count": 16,
   "id": "0f95a9a7-e69e-42fa-9423-87ff2d166bc0",
   "metadata": {},
   "outputs": [],
   "source": [
    "li.insert(2, 'i')"
   ]
  },
  {
   "cell_type": "code",
   "execution_count": 17,
   "id": "3062368f-3e2f-476f-8cfd-f64aa7aae19b",
   "metadata": {},
   "outputs": [
    {
     "data": {
      "text/plain": [
       "[1, 11, 'i', 3, 4, 5, 'a']"
      ]
     },
     "execution_count": 17,
     "metadata": {},
     "output_type": "execute_result"
    }
   ],
   "source": [
    "li"
   ]
  },
  {
   "cell_type": "code",
   "execution_count": 18,
   "id": "22eef518-ed3e-47c2-9e39-9f72e8b20288",
   "metadata": {},
   "outputs": [],
   "source": [
    "li = ['a', 'b', 'c', 'b']"
   ]
  },
  {
   "cell_type": "code",
   "execution_count": 19,
   "id": "4ed7b42b-4e2f-4c31-bf33-60e869f6fe68",
   "metadata": {},
   "outputs": [
    {
     "data": {
      "text/plain": [
       "1"
      ]
     },
     "execution_count": 19,
     "metadata": {},
     "output_type": "execute_result"
    }
   ],
   "source": [
    "li.index('b')"
   ]
  },
  {
   "cell_type": "code",
   "execution_count": 20,
   "id": "eaee2b4e-b772-4060-a874-b05983f64772",
   "metadata": {},
   "outputs": [
    {
     "data": {
      "text/plain": [
       "2"
      ]
     },
     "execution_count": 20,
     "metadata": {},
     "output_type": "execute_result"
    }
   ],
   "source": [
    "li.count('b')"
   ]
  },
  {
   "cell_type": "code",
   "execution_count": 21,
   "id": "28c3507c-c172-466e-b78b-4f4fa432ee4b",
   "metadata": {},
   "outputs": [],
   "source": [
    "li.remove('b')"
   ]
  },
  {
   "cell_type": "code",
   "execution_count": 22,
   "id": "698ac356-bb5f-450e-90c0-5ad5a6c653d8",
   "metadata": {},
   "outputs": [
    {
     "data": {
      "text/plain": [
       "['a', 'c', 'b']"
      ]
     },
     "execution_count": 22,
     "metadata": {},
     "output_type": "execute_result"
    }
   ],
   "source": [
    "li"
   ]
  },
  {
   "cell_type": "code",
   "execution_count": 23,
   "id": "daa94409-91f1-485d-a3d7-8136eb2ce500",
   "metadata": {},
   "outputs": [],
   "source": [
    "li = [5, 2, 6, 8]"
   ]
  },
  {
   "cell_type": "code",
   "execution_count": 24,
   "id": "98e57912-f7d8-440f-9773-49ff8d168a18",
   "metadata": {},
   "outputs": [],
   "source": [
    "li.reverse()"
   ]
  },
  {
   "cell_type": "code",
   "execution_count": 25,
   "id": "cae4e090-54ba-42db-9c3a-a169c9bd4dfa",
   "metadata": {},
   "outputs": [
    {
     "data": {
      "text/plain": [
       "[8, 6, 2, 5]"
      ]
     },
     "execution_count": 25,
     "metadata": {},
     "output_type": "execute_result"
    }
   ],
   "source": [
    "li"
   ]
  },
  {
   "cell_type": "code",
   "execution_count": 26,
   "id": "1cc7baff-d25c-4bf8-b242-310c9c246369",
   "metadata": {},
   "outputs": [],
   "source": [
    "li.sort()"
   ]
  },
  {
   "cell_type": "code",
   "execution_count": 27,
   "id": "4c1b39a4-b8e6-4614-8615-c5b467b4792f",
   "metadata": {},
   "outputs": [
    {
     "data": {
      "text/plain": [
       "[2, 5, 6, 8]"
      ]
     },
     "execution_count": 27,
     "metadata": {},
     "output_type": "execute_result"
    }
   ],
   "source": [
    "li"
   ]
  },
  {
   "cell_type": "code",
   "execution_count": null,
   "id": "34be26fe-8054-4be8-8107-51f6bc9735bd",
   "metadata": {},
   "outputs": [],
   "source": []
  },
  {
   "cell_type": "code",
   "execution_count": null,
   "id": "10a0290b-7dfb-4228-9abf-c6cb2756c178",
   "metadata": {},
   "outputs": [],
   "source": []
  }
 ],
 "metadata": {
  "kernelspec": {
   "display_name": "Python 3",
   "language": "python",
   "name": "python3"
  },
  "language_info": {
   "codemirror_mode": {
    "name": "ipython",
    "version": 3
   },
   "file_extension": ".py",
   "mimetype": "text/x-python",
   "name": "python",
   "nbconvert_exporter": "python",
   "pygments_lexer": "ipython3",
   "version": "3.8.8"
  }
 },
 "nbformat": 4,
 "nbformat_minor": 5
}
